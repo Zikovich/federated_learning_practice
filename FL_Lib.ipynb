{
 "cells": [
  {
   "cell_type": "code",
   "execution_count": 20,
   "id": "f73b2b30",
   "metadata": {},
   "outputs": [],
   "source": [
    "import torch,torchvision\n",
    "from torchvision import datasets, transforms\n",
    "from torch.utils.data import DataLoader, Dataset\n",
    "import numpy as np"
   ]
  },
  {
   "cell_type": "code",
   "execution_count": 23,
   "id": "e019040a",
   "metadata": {},
   "outputs": [],
   "source": [
    "def minstIID(dataset, num_users):\n",
    "    num_images = int(len(dataset)/num_users)\n",
    "    users_dict, indeces = {}, list(range(len(dataset)))\n",
    "    for i in range(num_users):\n",
    "        np.random.seed(i) # to expect the same random value each time of running  the code\n",
    "        users_dict[i] = set(np.random.choice(indeces,num_images,replace=False))\n",
    "        indeces = list(set(indeces) - users_dict[i]) # remove used indeces from main indeces\n",
    "    return users_dict\n",
    "                            "
   ]
  },
  {
   "cell_type": "code",
   "execution_count": 24,
   "id": "db630f85",
   "metadata": {},
   "outputs": [],
   "source": [
    "# Load Data\n",
    "def load_dataset(num_users):\n",
    "    transform = transforms.Compose([transforms.ToTensor(), transforms.Normalize((0.1307,),(0.3081,))])\n",
    "    train_dataset = torchvision.datasets.MNIST(root = \"./data\", train = True, transform = transform, target_transform = None, download = True)\n",
    "    test_dataset = torchvision.datasets.MNIST(root = \"./data\", train = False, transform = transform, target_transform = None, download = True)\n",
    "    train_group = minstIID(train_dataset, num_users)\n",
    "    test_group = minstIID(test_dataset, num_users)\n",
    "    return train_dataset, test_dataset, train_group, test_group\n"
   ]
  },
  {
   "cell_type": "code",
   "execution_count": 10,
   "id": "01dc01ec",
   "metadata": {},
   "outputs": [
    {
     "data": {
      "text/plain": [
       "Dataset MNIST\n",
       "    Number of datapoints: 60000\n",
       "    Root location: ./data\n",
       "    Split: Train\n",
       "    StandardTransform\n",
       "Transform: Compose(\n",
       "               ToTensor()\n",
       "               Normalize(mean=(0.1307,), std=(0.3081,))\n",
       "           )"
      ]
     },
     "execution_count": 10,
     "metadata": {},
     "output_type": "execute_result"
    }
   ],
   "source": [
    "#train_set"
   ]
  },
  {
   "cell_type": "code",
   "execution_count": 11,
   "id": "90f41a79",
   "metadata": {},
   "outputs": [
    {
     "data": {
      "text/plain": [
       "Dataset MNIST\n",
       "    Number of datapoints: 10000\n",
       "    Root location: ./data\n",
       "    Split: Test\n",
       "    StandardTransform\n",
       "Transform: Compose(\n",
       "               ToTensor()\n",
       "               Normalize(mean=(0.1307,), std=(0.3081,))\n",
       "           )"
      ]
     },
     "execution_count": 11,
     "metadata": {},
     "output_type": "execute_result"
    }
   ],
   "source": [
    "#test_set"
   ]
  },
  {
   "cell_type": "code",
   "execution_count": 28,
   "id": "71f399f9",
   "metadata": {},
   "outputs": [],
   "source": [
    "class FedDataset(Dataset):\n",
    "    def __init__(self,dataset,indx):\n",
    "        self.dataset = dataset\n",
    "        self.indx = [int(i) for i in indx]\n",
    "    \n",
    "    def __len__(self):\n",
    "        return len(self.indx)\n",
    "    \n",
    "    def __getitem__(self,item):\n",
    "        images,label = self.dataset[self.indx[item]]\n",
    "        #return torch.tensor(images),torch.tensor(label)\n",
    "        return torch.tensor(images).clone().detach(), torch.tensor(label).clone().detach()\n",
    "        "
   ]
  },
  {
   "cell_type": "code",
   "execution_count": 25,
   "id": "f7c49710",
   "metadata": {},
   "outputs": [],
   "source": [
    "def getActualImgs(dataset, indeces, batch_size):\n",
    "    return DataLoader(FedDataset(dataset,indeces), batch_size=batch_size, shuffle=True)"
   ]
  },
  {
   "cell_type": "code",
   "execution_count": null,
   "id": "f4e95f69",
   "metadata": {},
   "outputs": [],
   "source": []
  }
 ],
 "metadata": {
  "kernelspec": {
   "display_name": "Python 3 (ipykernel)",
   "language": "python",
   "name": "python3"
  },
  "language_info": {
   "codemirror_mode": {
    "name": "ipython",
    "version": 3
   },
   "file_extension": ".py",
   "mimetype": "text/x-python",
   "name": "python",
   "nbconvert_exporter": "python",
   "pygments_lexer": "ipython3",
   "version": "3.10.6"
  }
 },
 "nbformat": 4,
 "nbformat_minor": 5
}
