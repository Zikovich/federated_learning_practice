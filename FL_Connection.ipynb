{
 "cells": [
  {
   "cell_type": "code",
   "execution_count": 1,
   "id": "d954f6ee",
   "metadata": {},
   "outputs": [],
   "source": [
    "#!pip install syft"
   ]
  },
  {
   "cell_type": "code",
   "execution_count": 2,
   "id": "5a637068",
   "metadata": {},
   "outputs": [],
   "source": [
    "import torch\n"
   ]
  },
  {
   "cell_type": "code",
   "execution_count": 3,
   "id": "7d2885c0",
   "metadata": {},
   "outputs": [],
   "source": [
    "import syft as sy"
   ]
  },
  {
   "cell_type": "code",
   "execution_count": 11,
   "id": "c6f62e37",
   "metadata": {},
   "outputs": [
    {
     "name": "stdout",
     "output_type": "stream",
     "text": [
      "sy.__version__ = <module 'syft.version' from '/home/islam/anaconda3/envs/federated/lib/python3.7/site-packages/syft/version.py'>\n",
      "torch.__version__ =  1.6.0+cpu\n"
     ]
    }
   ],
   "source": [
    "print('sy.__version__ =',sy.version)\n",
    "print(\"torch.__version__ = \",torch.__version__)"
   ]
  },
  {
   "cell_type": "code",
   "execution_count": 12,
   "id": "ee51cebd",
   "metadata": {},
   "outputs": [],
   "source": [
    "hook = sy.TorchHook(torch) # this hook not need for new syft version\n",
    "# https://github.com/OpenMined/PySyft/issues/4820"
   ]
  },
  {
   "cell_type": "code",
   "execution_count": 13,
   "id": "21668673",
   "metadata": {},
   "outputs": [
    {
     "data": {
      "text/plain": [
       "<syft.frameworks.torch.hook.hook.TorchHook at 0x7f9d9513f590>"
      ]
     },
     "execution_count": 13,
     "metadata": {},
     "output_type": "execute_result"
    }
   ],
   "source": [
    "hook"
   ]
  },
  {
   "cell_type": "code",
   "execution_count": 14,
   "id": "a4d6b138",
   "metadata": {},
   "outputs": [],
   "source": [
    "client1 = sy.VirtualWorker(hook, id=\"clt1\")"
   ]
  },
  {
   "cell_type": "code",
   "execution_count": 16,
   "id": "0467d7c7",
   "metadata": {},
   "outputs": [
    {
     "data": {
      "text/plain": [
       "<VirtualWorker id:clt1 #objects:0>"
      ]
     },
     "execution_count": 16,
     "metadata": {},
     "output_type": "execute_result"
    }
   ],
   "source": [
    "client1"
   ]
  },
  {
   "cell_type": "code",
   "execution_count": 17,
   "id": "1dbc8f12",
   "metadata": {},
   "outputs": [
    {
     "data": {
      "text/plain": [
       "{}"
      ]
     },
     "execution_count": 17,
     "metadata": {},
     "output_type": "execute_result"
    }
   ],
   "source": [
    "client1._objects"
   ]
  },
  {
   "cell_type": "code",
   "execution_count": 18,
   "id": "707fdfde",
   "metadata": {},
   "outputs": [],
   "source": [
    "x = torch.Tensor([1,2,3])"
   ]
  },
  {
   "cell_type": "code",
   "execution_count": 19,
   "id": "c3760c0b",
   "metadata": {},
   "outputs": [],
   "source": [
    "x = x.send(client1)"
   ]
  },
  {
   "cell_type": "code",
   "execution_count": 20,
   "id": "7508f913",
   "metadata": {},
   "outputs": [
    {
     "data": {
      "text/plain": [
       "(Wrapper)>[PointerTensor | me:7786793819 -> clt1:80624870289]"
      ]
     },
     "execution_count": 20,
     "metadata": {},
     "output_type": "execute_result"
    }
   ],
   "source": [
    "x"
   ]
  },
  {
   "cell_type": "code",
   "execution_count": 27,
   "id": "ff7560ab",
   "metadata": {},
   "outputs": [
    {
     "data": {
      "text/plain": [
       "<VirtualWorker id:clt1 #objects:1>"
      ]
     },
     "execution_count": 27,
     "metadata": {},
     "output_type": "execute_result"
    }
   ],
   "source": [
    "client1"
   ]
  },
  {
   "cell_type": "code",
   "execution_count": 28,
   "id": "f2b3cb11",
   "metadata": {},
   "outputs": [
    {
     "data": {
      "text/plain": [
       "<VirtualWorker id:clt1 #objects:1>"
      ]
     },
     "execution_count": 28,
     "metadata": {},
     "output_type": "execute_result"
    }
   ],
   "source": [
    "x.location"
   ]
  },
  {
   "cell_type": "code",
   "execution_count": 29,
   "id": "eaa47bdd",
   "metadata": {},
   "outputs": [
    {
     "data": {
      "text/plain": [
       "True"
      ]
     },
     "execution_count": 29,
     "metadata": {},
     "output_type": "execute_result"
    }
   ],
   "source": [
    "x.location == client1"
   ]
  },
  {
   "cell_type": "code",
   "execution_count": 30,
   "id": "ed6b55d9",
   "metadata": {},
   "outputs": [
    {
     "data": {
      "text/plain": [
       "'clt1'"
      ]
     },
     "execution_count": 30,
     "metadata": {},
     "output_type": "execute_result"
    }
   ],
   "source": [
    "x.location.id"
   ]
  },
  {
   "cell_type": "code",
   "execution_count": 38,
   "id": "65474dc3",
   "metadata": {},
   "outputs": [],
   "source": [
    "x = x.get()"
   ]
  },
  {
   "cell_type": "code",
   "execution_count": 39,
   "id": "a57d11fb",
   "metadata": {},
   "outputs": [
    {
     "data": {
      "text/plain": [
       "tensor([1., 2., 3.])"
      ]
     },
     "execution_count": 39,
     "metadata": {},
     "output_type": "execute_result"
    }
   ],
   "source": [
    "x"
   ]
  },
  {
   "cell_type": "code",
   "execution_count": null,
   "id": "44af5521",
   "metadata": {},
   "outputs": [],
   "source": []
  }
 ],
 "metadata": {
  "kernelspec": {
   "display_name": "Python 3 (ipykernel)",
   "language": "python",
   "name": "python3"
  },
  "language_info": {
   "codemirror_mode": {
    "name": "ipython",
    "version": 3
   },
   "file_extension": ".py",
   "mimetype": "text/x-python",
   "name": "python",
   "nbconvert_exporter": "python",
   "pygments_lexer": "ipython3",
   "version": "3.7.13"
  }
 },
 "nbformat": 4,
 "nbformat_minor": 5
}
