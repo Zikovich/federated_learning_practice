{
 "cells": [
  {
   "cell_type": "code",
   "execution_count": 169,
   "id": "d4c8aec3",
   "metadata": {},
   "outputs": [],
   "source": [
    "import torch"
   ]
  },
  {
   "cell_type": "code",
   "execution_count": 170,
   "id": "7b32cee0",
   "metadata": {},
   "outputs": [],
   "source": [
    "input_img = torch.randn((1,10))"
   ]
  },
  {
   "cell_type": "code",
   "execution_count": 171,
   "id": "c3e5278e",
   "metadata": {},
   "outputs": [
    {
     "data": {
      "text/plain": [
       "tensor([[-1.4157,  0.0629,  1.3937, -0.8039, -0.7437,  0.2599, -0.2870, -0.9434,\n",
       "          1.9552, -0.5406]])"
      ]
     },
     "execution_count": 171,
     "metadata": {},
     "output_type": "execute_result"
    }
   ],
   "source": [
    "input_img"
   ]
  },
  {
   "cell_type": "code",
   "execution_count": 172,
   "id": "dc6d19d8",
   "metadata": {},
   "outputs": [],
   "source": [
    "weights = torch.randn_like(input_img)"
   ]
  },
  {
   "cell_type": "code",
   "execution_count": 173,
   "id": "ce50639b",
   "metadata": {},
   "outputs": [
    {
     "data": {
      "text/plain": [
       "tensor([[ 0.4620, -0.6529,  0.4855,  0.5257,  0.0273, -0.9668,  0.1271, -0.9317,\n",
       "          1.0186,  0.4945]])"
      ]
     },
     "execution_count": 173,
     "metadata": {},
     "output_type": "execute_result"
    }
   ],
   "source": [
    "weights"
   ]
  },
  {
   "cell_type": "code",
   "execution_count": 174,
   "id": "1a8c0b08",
   "metadata": {},
   "outputs": [],
   "source": [
    "bias = torch.randn((1,1))"
   ]
  },
  {
   "cell_type": "code",
   "execution_count": 175,
   "id": "27cdc732",
   "metadata": {},
   "outputs": [
    {
     "data": {
      "text/plain": [
       "tensor([[1.4110]])"
      ]
     },
     "execution_count": 175,
     "metadata": {},
     "output_type": "execute_result"
    }
   ],
   "source": [
    "bias"
   ]
  },
  {
   "cell_type": "code",
   "execution_count": 176,
   "id": "b958123d",
   "metadata": {},
   "outputs": [],
   "source": [
    "out = torch.sum(input_img * weights) + bias"
   ]
  },
  {
   "cell_type": "code",
   "execution_count": 177,
   "id": "d5291182",
   "metadata": {},
   "outputs": [
    {
     "data": {
      "text/plain": [
       "tensor([[3.2651]])"
      ]
     },
     "execution_count": 177,
     "metadata": {},
     "output_type": "execute_result"
    }
   ],
   "source": [
    "out"
   ]
  },
  {
   "cell_type": "code",
   "execution_count": 178,
   "id": "32fadfb9",
   "metadata": {},
   "outputs": [],
   "source": [
    "def sigmoid(x):\n",
    "    ret = 1/(1 + torch.exp(-x))\n",
    "    return ret"
   ]
  },
  {
   "cell_type": "code",
   "execution_count": 179,
   "id": "23cb9a8a",
   "metadata": {},
   "outputs": [],
   "source": [
    "out = sigmoid(out)"
   ]
  },
  {
   "cell_type": "code",
   "execution_count": 180,
   "id": "f8f655de",
   "metadata": {},
   "outputs": [
    {
     "data": {
      "text/plain": [
       "tensor([[0.9632]])"
      ]
     },
     "execution_count": 180,
     "metadata": {},
     "output_type": "execute_result"
    }
   ],
   "source": [
    "out"
   ]
  },
  {
   "cell_type": "code",
   "execution_count": null,
   "id": "45303ea4",
   "metadata": {},
   "outputs": [],
   "source": []
  },
  {
   "cell_type": "markdown",
   "id": "61697fa8",
   "metadata": {},
   "source": [
    "# Using Matrix Multiplication"
   ]
  },
  {
   "cell_type": "code",
   "execution_count": 181,
   "id": "127641e5",
   "metadata": {},
   "outputs": [],
   "source": [
    "out = torch.mm(input_img , weights.view(10,1)) + bias"
   ]
  },
  {
   "cell_type": "code",
   "execution_count": 182,
   "id": "b4db4e72",
   "metadata": {},
   "outputs": [
    {
     "data": {
      "text/plain": [
       "tensor([[3.2651]])"
      ]
     },
     "execution_count": 182,
     "metadata": {},
     "output_type": "execute_result"
    }
   ],
   "source": [
    "out"
   ]
  },
  {
   "cell_type": "markdown",
   "id": "6330d09a",
   "metadata": {},
   "source": [
    "# Mutli Neurons"
   ]
  },
  {
   "cell_type": "code",
   "execution_count": 183,
   "id": "63680c07",
   "metadata": {},
   "outputs": [],
   "source": [
    "input_img = torch.randn((1,3))"
   ]
  },
  {
   "cell_type": "code",
   "execution_count": 184,
   "id": "21b8fc92",
   "metadata": {},
   "outputs": [],
   "source": [
    "n_inputs = input_img.shape[1]\n",
    "n_neurons = 2\n",
    "n_outputs = 1"
   ]
  },
  {
   "cell_type": "code",
   "execution_count": 185,
   "id": "0984a99d",
   "metadata": {},
   "outputs": [],
   "source": [
    "w1 = torch.randn((n_inputs,n_neurons))\n",
    "w2 = torch.randn((n_neurons,n_outputs))"
   ]
  },
  {
   "cell_type": "code",
   "execution_count": 186,
   "id": "b815fef4",
   "metadata": {},
   "outputs": [],
   "source": [
    "B1 = torch.randn((1,n_neurons))\n",
    "B2 = torch.randn((1,n_outputs))"
   ]
  },
  {
   "cell_type": "code",
   "execution_count": 187,
   "id": "fcfca277",
   "metadata": {},
   "outputs": [],
   "source": [
    "h1 = sigmoid(torch.mm(input_img , w1) + B1)\n",
    "output = sigmoid(torch.mm(h1 , w2) + B2)"
   ]
  },
  {
   "cell_type": "code",
   "execution_count": 188,
   "id": "1e91b19b",
   "metadata": {},
   "outputs": [
    {
     "data": {
      "text/plain": [
       "tensor([[0.4817]])"
      ]
     },
     "execution_count": 188,
     "metadata": {},
     "output_type": "execute_result"
    }
   ],
   "source": [
    "output"
   ]
  },
  {
   "cell_type": "markdown",
   "id": "2eadd791",
   "metadata": {},
   "source": [
    "# Autograd"
   ]
  },
  {
   "cell_type": "code",
   "execution_count": 189,
   "id": "d9b175ea",
   "metadata": {},
   "outputs": [],
   "source": [
    "x = torch.randn((1,5), requires_grad=True)"
   ]
  },
  {
   "cell_type": "code",
   "execution_count": 190,
   "id": "9ca13332",
   "metadata": {},
   "outputs": [
    {
     "data": {
      "text/plain": [
       "tensor([[-0.8751, -0.4136, -0.8943,  0.1253, -0.7324]], requires_grad=True)"
      ]
     },
     "execution_count": 190,
     "metadata": {},
     "output_type": "execute_result"
    }
   ],
   "source": [
    "x"
   ]
  },
  {
   "cell_type": "code",
   "execution_count": 191,
   "id": "28e75edd",
   "metadata": {},
   "outputs": [],
   "source": [
    "b = x + 2"
   ]
  },
  {
   "cell_type": "code",
   "execution_count": 192,
   "id": "f99db118",
   "metadata": {},
   "outputs": [
    {
     "data": {
      "text/plain": [
       "tensor([[1.1249, 1.5864, 1.1057, 2.1253, 1.2676]], grad_fn=<AddBackward0>)"
      ]
     },
     "execution_count": 192,
     "metadata": {},
     "output_type": "execute_result"
    }
   ],
   "source": [
    "b"
   ]
  },
  {
   "cell_type": "code",
   "execution_count": 193,
   "id": "e104a0b4",
   "metadata": {},
   "outputs": [],
   "source": [
    "c = b * 2"
   ]
  },
  {
   "cell_type": "code",
   "execution_count": 194,
   "id": "728e2b8d",
   "metadata": {},
   "outputs": [
    {
     "data": {
      "text/plain": [
       "tensor([[2.2499, 3.1727, 2.2114, 4.2506, 2.5351]], grad_fn=<MulBackward0>)"
      ]
     },
     "execution_count": 194,
     "metadata": {},
     "output_type": "execute_result"
    }
   ],
   "source": [
    "c"
   ]
  },
  {
   "cell_type": "code",
   "execution_count": 195,
   "id": "621f8c1c",
   "metadata": {},
   "outputs": [],
   "source": [
    "c = c.mean()"
   ]
  },
  {
   "cell_type": "code",
   "execution_count": 196,
   "id": "089c5802",
   "metadata": {},
   "outputs": [
    {
     "data": {
      "text/plain": [
       "tensor(2.8840, grad_fn=<MeanBackward0>)"
      ]
     },
     "execution_count": 196,
     "metadata": {},
     "output_type": "execute_result"
    }
   ],
   "source": [
    "c"
   ]
  },
  {
   "cell_type": "code",
   "execution_count": 197,
   "id": "b2637e82",
   "metadata": {},
   "outputs": [],
   "source": [
    "x.grad"
   ]
  },
  {
   "cell_type": "code",
   "execution_count": 198,
   "id": "2b6e2136",
   "metadata": {},
   "outputs": [],
   "source": [
    "c.backward()"
   ]
  },
  {
   "cell_type": "code",
   "execution_count": 199,
   "id": "e61e98a3",
   "metadata": {},
   "outputs": [
    {
     "data": {
      "text/plain": [
       "tensor(2.8840, grad_fn=<MeanBackward0>)"
      ]
     },
     "execution_count": 199,
     "metadata": {},
     "output_type": "execute_result"
    }
   ],
   "source": [
    "c"
   ]
  },
  {
   "cell_type": "code",
   "execution_count": 200,
   "id": "65db8243",
   "metadata": {},
   "outputs": [
    {
     "data": {
      "text/plain": [
       "tensor([[0.4000, 0.4000, 0.4000, 0.4000, 0.4000]])"
      ]
     },
     "execution_count": 200,
     "metadata": {},
     "output_type": "execute_result"
    }
   ],
   "source": [
    "x.grad"
   ]
  },
  {
   "cell_type": "markdown",
   "id": "dfb94280",
   "metadata": {},
   "source": [
    "# MNIST Dataset"
   ]
  },
  {
   "cell_type": "code",
   "execution_count": 201,
   "id": "b2806d13",
   "metadata": {},
   "outputs": [],
   "source": [
    "import torchvision\n",
    "import matplotlib.pyplot as plt"
   ]
  },
  {
   "cell_type": "markdown",
   "id": "df437620",
   "metadata": {},
   "source": [
    "https://pytorch.org/vision/stable/generated/torchvision.datasets.MNIST.html#torchvision.datasets.MNIST"
   ]
  },
  {
   "cell_type": "markdown",
   "id": "5111aa82",
   "metadata": {},
   "source": [
    "## Transform\n",
    "\n",
    "https://pytorch.org/vision/stable/generated/torchvision.transforms.Compose.html#torchvision.transforms.Compose"
   ]
  },
  {
   "cell_type": "code",
   "execution_count": 238,
   "id": "8099266a",
   "metadata": {},
   "outputs": [],
   "source": [
    "from torchvision import transforms"
   ]
  },
  {
   "cell_type": "code",
   "execution_count": 239,
   "id": "f96eada6",
   "metadata": {},
   "outputs": [],
   "source": [
    "transform = transforms.Compose([transforms.ToTensor()])"
   ]
  },
  {
   "cell_type": "code",
   "execution_count": 240,
   "id": "02f0520a",
   "metadata": {},
   "outputs": [],
   "source": [
    "trainset = torchvision.datasets.MNIST(root = \"./data\", train = True, transform = transform, target_transform = None, download = True)"
   ]
  },
  {
   "cell_type": "code",
   "execution_count": 241,
   "id": "3e4a35a2",
   "metadata": {},
   "outputs": [
    {
     "data": {
      "text/plain": [
       "<torch.utils.data.dataloader.DataLoader at 0x7f3a38745450>"
      ]
     },
     "execution_count": 241,
     "metadata": {},
     "output_type": "execute_result"
    }
   ],
   "source": [
    "trainloader = torch.utils.data.DataLoader(trainset, batch_size=64, shuffle=True)\n",
    "trainloader"
   ]
  },
  {
   "cell_type": "code",
   "execution_count": 242,
   "id": "29097f4a",
   "metadata": {},
   "outputs": [
    {
     "name": "stdout",
     "output_type": "stream",
     "text": [
      "torch.Size([64, 1, 28, 28]) torch.Size([64])\n"
     ]
    }
   ],
   "source": [
    "for images, labels in trainloader:\n",
    "    print(images.size(),labels.size())\n",
    "    break"
   ]
  },
  {
   "cell_type": "markdown",
   "id": "5306c7b0",
   "metadata": {},
   "source": [
    "Another way rather than for loop using iter"
   ]
  },
  {
   "cell_type": "code",
   "execution_count": 207,
   "id": "67a52d58",
   "metadata": {},
   "outputs": [],
   "source": [
    "batches = iter(trainloader)"
   ]
  },
  {
   "cell_type": "code",
   "execution_count": 208,
   "id": "362da763",
   "metadata": {},
   "outputs": [],
   "source": [
    "one_batch = next(batches)"
   ]
  },
  {
   "cell_type": "code",
   "execution_count": 209,
   "id": "d88b0c85",
   "metadata": {},
   "outputs": [],
   "source": [
    "images,labels = one_batch"
   ]
  },
  {
   "cell_type": "code",
   "execution_count": 210,
   "id": "12142c99",
   "metadata": {},
   "outputs": [
    {
     "name": "stdout",
     "output_type": "stream",
     "text": [
      "torch.Size([64, 1, 28, 28]) torch.Size([64])\n"
     ]
    }
   ],
   "source": [
    "print(images.size(),labels.size())"
   ]
  },
  {
   "cell_type": "code",
   "execution_count": 211,
   "id": "1c1e9f26",
   "metadata": {},
   "outputs": [],
   "source": [
    "#!pip install matplot"
   ]
  },
  {
   "cell_type": "code",
   "execution_count": 212,
   "id": "5b9b3d62",
   "metadata": {},
   "outputs": [
    {
     "data": {
      "text/plain": [
       "<matplotlib.image.AxesImage at 0x7f3a38bc7820>"
      ]
     },
     "execution_count": 212,
     "metadata": {},
     "output_type": "execute_result"
    },
    {
     "data": {
      "image/png": "[encoded data removed]",
      "text/plain": [
       "<Figure size 640x480 with 1 Axes>"
      ]
     },
     "metadata": {},
     "output_type": "display_data"
    }
   ],
   "source": [
    "plt.imshow(images[0].numpy().squeeze(),cmap='Greys_r')"
   ]
  },
  {
   "cell_type": "markdown",
   "id": "08bd2472",
   "metadata": {},
   "source": [
    "----------\n",
    "# Single Epoch Training"
   ]
  },
  {
   "cell_type": "code",
   "execution_count": 224,
   "id": "f2c27624",
   "metadata": {},
   "outputs": [],
   "source": [
    "from torch import nn, optim"
   ]
  },
  {
   "cell_type": "code",
   "execution_count": 214,
   "id": "425823b1",
   "metadata": {},
   "outputs": [],
   "source": [
    "class Net(nn.Module):\n",
    "    def __init__(self):\n",
    "        super().__init__()\n",
    "        self.hidden = nn.Linear(28*28, 512) # 28*28 image size, 512 neurons\n",
    "        self.output = nn.Linear(512, 10) #10 output as MNIST\n",
    "        \n",
    "        self.sigmoid = nn.Sigmoid()\n",
    "        self.softmax = nn.LogSoftmax(dim=1) # dim=q take place colum wise not raw\n",
    "        \n",
    "    def forward(self, x):\n",
    "        x = self.hidden(x)\n",
    "        x = self.sigmoid(x)\n",
    "        x = self.output(x)\n",
    "        x = self.softmax(x)\n",
    "        \n",
    "        return x"
   ]
  },
  {
   "cell_type": "code",
   "execution_count": 215,
   "id": "8fca280a",
   "metadata": {},
   "outputs": [],
   "source": [
    "model = Net()"
   ]
  },
  {
   "cell_type": "code",
   "execution_count": 216,
   "id": "d6c24ffc",
   "metadata": {},
   "outputs": [
    {
     "data": {
      "text/plain": [
       "Net(\n",
       "  (hidden): Linear(in_features=784, out_features=512, bias=True)\n",
       "  (output): Linear(in_features=512, out_features=10, bias=True)\n",
       "  (sigmoid): Sigmoid()\n",
       "  (softmax): LogSoftmax(dim=1)\n",
       ")"
      ]
     },
     "execution_count": 216,
     "metadata": {},
     "output_type": "execute_result"
    }
   ],
   "source": [
    "model"
   ]
  },
  {
   "cell_type": "code",
   "execution_count": 217,
   "id": "a8ba42c3",
   "metadata": {},
   "outputs": [],
   "source": [
    "## Define the Loss"
   ]
  },
  {
   "cell_type": "code",
   "execution_count": 218,
   "id": "31f31c16",
   "metadata": {},
   "outputs": [],
   "source": [
    "criterion = nn.NLLLoss()"
   ]
  },
  {
   "cell_type": "code",
   "execution_count": 219,
   "id": "62ecba71",
   "metadata": {},
   "outputs": [],
   "source": [
    "batches = iter(trainloader)\n",
    "images, labels = next(batches)"
   ]
  },
  {
   "cell_type": "code",
   "execution_count": 220,
   "id": "b0a6dec6",
   "metadata": {},
   "outputs": [],
   "source": [
    "images = images.view(images.shape[0],-1)"
   ]
  },
  {
   "cell_type": "code",
   "execution_count": 221,
   "id": "3516bb01",
   "metadata": {},
   "outputs": [
    {
     "data": {
      "text/plain": [
       "torch.Size([64, 784])"
      ]
     },
     "execution_count": 221,
     "metadata": {},
     "output_type": "execute_result"
    }
   ],
   "source": [
    "images.size()"
   ]
  },
  {
   "cell_type": "code",
   "execution_count": 222,
   "id": "9c928191",
   "metadata": {},
   "outputs": [
    {
     "data": {
      "text/plain": [
       "tensor(2.4024, grad_fn=<NllLossBackward0>)"
      ]
     },
     "execution_count": 222,
     "metadata": {},
     "output_type": "execute_result"
    }
   ],
   "source": [
    "logist = model(images)\n",
    "\n",
    "# Forward prop\n",
    "\n",
    "loss = criterion(logist, labels)\n",
    "loss"
   ]
  },
  {
   "cell_type": "code",
   "execution_count": 223,
   "id": "d603f6e8",
   "metadata": {},
   "outputs": [],
   "source": [
    "loss.backward()"
   ]
  },
  {
   "cell_type": "code",
   "execution_count": 225,
   "id": "f9822b96",
   "metadata": {},
   "outputs": [],
   "source": [
    "optimizer = optim.SGD(model.parameters(),lr=0.01)# lr = learning rte"
   ]
  },
  {
   "cell_type": "code",
   "execution_count": 226,
   "id": "fbaeb295",
   "metadata": {},
   "outputs": [],
   "source": [
    "optimizer.step()"
   ]
  },
  {
   "cell_type": "markdown",
   "id": "8e32cd56",
   "metadata": {},
   "source": [
    "# Full Training"
   ]
  },
  {
   "cell_type": "code",
   "execution_count": 227,
   "id": "04e94efd",
   "metadata": {},
   "outputs": [
    {
     "name": "stdout",
     "output_type": "stream",
     "text": [
      "The running loss is : 2.097097349065199\n",
      "The running loss is : 1.4608847910661433\n",
      "The running loss is : 0.9571693355976137\n",
      "The running loss is : 0.7244098020642042\n",
      "The running loss is : 0.6055479704507633\n"
     ]
    }
   ],
   "source": [
    "for epoch in range(5):\n",
    "    running_loss = 0\n",
    "    for images, labels in trainloader:\n",
    "        images = images.view(images.shape[0],-1)\n",
    "        optimizer.zero_grad()\n",
    "        logits = model(images)\n",
    "        loss = criterion(logits,labels)\n",
    "        loss.backward()\n",
    "        optimizer.step()\n",
    "        running_loss += loss.item()\n",
    "    else:\n",
    "        print(\"The running loss is : {}\".format(running_loss/len(trainloader)))\n",
    "     "
   ]
  },
  {
   "cell_type": "markdown",
   "id": "626cce65",
   "metadata": {},
   "source": [
    "# Inference"
   ]
  },
  {
   "cell_type": "code",
   "execution_count": 228,
   "id": "97833991",
   "metadata": {},
   "outputs": [],
   "source": [
    "images, labels = next(iter(trainloader))"
   ]
  },
  {
   "cell_type": "code",
   "execution_count": 230,
   "id": "7abc8fd2",
   "metadata": {},
   "outputs": [
    {
     "data": {
      "text/plain": [
       "<matplotlib.image.AxesImage at 0x7f3a38738fa0>"
      ]
     },
     "execution_count": 230,
     "metadata": {},
     "output_type": "execute_result"
    },
    {
     "data": {
      "image/png": "[encoded data removed]",
      "text/plain": [
       "<Figure size 640x480 with 1 Axes>"
      ]
     },
     "metadata": {},
     "output_type": "display_data"
    }
   ],
   "source": [
    "img = images[0]\n",
    "plt.imshow(img.numpy().squeeze(),cmap='Greys_r')"
   ]
  },
  {
   "cell_type": "code",
   "execution_count": 231,
   "id": "0e57b69c",
   "metadata": {},
   "outputs": [],
   "source": [
    "img = img.view(1,-1)"
   ]
  },
  {
   "cell_type": "code",
   "execution_count": 232,
   "id": "5ae7455e",
   "metadata": {},
   "outputs": [],
   "source": [
    "with torch.no_grad():\n",
    "    logprobs = model(img)"
   ]
  },
  {
   "cell_type": "code",
   "execution_count": 233,
   "id": "e1c040fe",
   "metadata": {},
   "outputs": [
    {
     "data": {
      "text/plain": [
       "tensor([[-7.8036, -4.7125, -0.1460, -3.0430, -7.6762, -6.6254, -6.5259, -7.3721,\n",
       "         -2.5976, -7.7066]])"
      ]
     },
     "execution_count": 233,
     "metadata": {},
     "output_type": "execute_result"
    }
   ],
   "source": [
    "logprobs"
   ]
  },
  {
   "cell_type": "code",
   "execution_count": 234,
   "id": "1ab2191c",
   "metadata": {},
   "outputs": [],
   "source": [
    "probs = torch.exp(logprobs)"
   ]
  },
  {
   "cell_type": "code",
   "execution_count": 235,
   "id": "5cbc13c2",
   "metadata": {},
   "outputs": [
    {
     "data": {
      "text/plain": [
       "tensor([[4.0825e-04, 8.9820e-03, 8.6413e-01, 4.7691e-02, 4.6374e-04, 1.3262e-03,\n",
       "         1.4649e-03, 6.2856e-04, 7.4452e-02, 4.4983e-04]])"
      ]
     },
     "execution_count": 235,
     "metadata": {},
     "output_type": "execute_result"
    }
   ],
   "source": [
    "probs"
   ]
  },
  {
   "cell_type": "code",
   "execution_count": 236,
   "id": "57b62049",
   "metadata": {},
   "outputs": [
    {
     "data": {
      "text/plain": [
       "tensor(1.0000)"
      ]
     },
     "execution_count": 236,
     "metadata": {},
     "output_type": "execute_result"
    }
   ],
   "source": [
    "torch.sum(probs)"
   ]
  },
  {
   "cell_type": "code",
   "execution_count": 237,
   "id": "3f3c0f33",
   "metadata": {},
   "outputs": [
    {
     "data": {
      "text/plain": [
       "tensor(2)"
      ]
     },
     "execution_count": 237,
     "metadata": {},
     "output_type": "execute_result"
    }
   ],
   "source": [
    "torch.argmax(probs)"
   ]
  },
  {
   "cell_type": "code",
   "execution_count": null,
   "id": "78e27cb4",
   "metadata": {},
   "outputs": [],
   "source": []
  }
 ],
 "metadata": {
  "kernelspec": {
   "display_name": "Python 3 (ipykernel)",
   "language": "python",
   "name": "python3"
  },
  "language_info": {
   "codemirror_mode": {
    "name": "ipython",
    "version": 3
   },
   "file_extension": ".py",
   "mimetype": "text/x-python",
   "name": "python",
   "nbconvert_exporter": "python",
   "pygments_lexer": "ipython3",
   "version": "3.10.6"
  }
 },
 "nbformat": 4,
 "nbformat_minor": 5
}
